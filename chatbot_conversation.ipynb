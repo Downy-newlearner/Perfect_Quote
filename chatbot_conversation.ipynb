{
 "cells": [
  {
   "cell_type": "code",
   "execution_count": 1,
   "metadata": {},
   "outputs": [],
   "source": [
    "from utils.chatbot_utils import Chatbot\n",
    "import time\n",
    "import sys"
   ]
  },
  {
   "cell_type": "code",
   "execution_count": 2,
   "metadata": {},
   "outputs": [
    {
     "name": "stdout",
     "output_type": "stream",
     "text": [
      "==================================================\n",
      "Perfect Quote Chatbot 대화 시작\n",
      "==================================================\n",
      "사용자: 안녕\n",
      "챗봇: 안녕! 오랜만이네. 요즘 어떻게 지내? 나는 네게 들려줄 이야기가 많은데, 언제 시간 있어? 우리 같이 커피 한 잔 할까?\n",
      "------------------------------\n",
      "사용자: 반가워\n",
      "챗봇: 나도 반가워! 네 소식을 듣게 되어서 정말 좋아. 최근에 어떤 일이 있었는지, 좀 나눠줄 수 있어? 함께 이야기 나누며 시간을 보내고 싶어!\n",
      "------------------------------\n",
      "사용자: exit\n",
      "==================================================\n",
      "( 챗봇과의 대화를 종료합니다. )\n",
      "==================================================\n"
     ]
    }
   ],
   "source": [
    "# 사용자와 계속적으로 대화하기\n",
    "# 'exit' 입력 시 종료\n",
    "\n",
    "print(\"=\" * 50)\n",
    "print(\"Perfect Quote Chatbot 대화 시작\")\n",
    "print(\"=\" * 50)\n",
    "time.sleep(0.2)\n",
    "\n",
    "chatbot = Chatbot()\n",
    "\n",
    "while True:\n",
    "    user_input = input(\"대화를 입력하세요: \") # 사용자 입력 받기\n",
    "    print(f\"사용자: {user_input}\") # 사용자 입력 출력\n",
    "    sys.stdout.flush()  # 출력 버퍼 강제 플러시\n",
    "    \n",
    "    if user_input.lower() == 'exit': # 사용자가 'exit' 입력 시 종료\n",
    "        print(\"=\" * 50)\n",
    "        print(\"( 챗봇과의 대화를 종료합니다. )\")\n",
    "        print(\"=\" * 50)\n",
    "        break\n",
    "\n",
    "    time.sleep(0.2) # RPM 조절용 딜레이\n",
    "    \n",
    "    # 챗봇 응답 생성 및 즉시 출력\n",
    "    try:\n",
    "        response = chatbot.chat_once(user_input) # 챗봇 응답 생성\n",
    "        print(f\"챗봇: {response}\") # 챗봇 응답 즉시 출력\n",
    "        sys.stdout.flush()  # 출력 버퍼 강제 플러시\n",
    "    except Exception as e:\n",
    "        print(f\"오류 발생: {e}\")\n",
    "    \n",
    "    print(\"-\" * 30) # 대화 구분선"
   ]
  },
  {
   "cell_type": "code",
   "execution_count": null,
   "metadata": {},
   "outputs": [],
   "source": [
    "# 지금까지 저장된 대화 히스토리\n",
    "chatbot.show_history()"
   ]
  },
  {
   "cell_type": "code",
   "execution_count": null,
   "metadata": {},
   "outputs": [],
   "source": [
    "# 지금까지 저장된 대화 기록을 csv파일로 저장하기.\n",
    "chatbot.save_chat_history_to_csv()"
   ]
  }
 ],
 "metadata": {
  "kernelspec": {
   "display_name": ".venv",
   "language": "python",
   "name": "python3"
  },
  "language_info": {
   "codemirror_mode": {
    "name": "ipython",
    "version": 3
   },
   "file_extension": ".py",
   "mimetype": "text/x-python",
   "name": "python",
   "nbconvert_exporter": "python",
   "pygments_lexer": "ipython3",
   "version": "3.12.3"
  }
 },
 "nbformat": 4,
 "nbformat_minor": 2
}
