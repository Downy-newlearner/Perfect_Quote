{
 "cells": [
  {
   "cell_type": "code",
   "execution_count": 1,
   "metadata": {},
   "outputs": [
    {
     "ename": "ModuleNotFoundError",
     "evalue": "No module named 'langchain_upstage'",
     "output_type": "error",
     "traceback": [
      "\u001b[31m---------------------------------------------------------------------------\u001b[39m",
      "\u001b[31mModuleNotFoundError\u001b[39m                       Traceback (most recent call last)",
      "\u001b[36mCell\u001b[39m\u001b[36m \u001b[39m\u001b[32mIn[1]\u001b[39m\u001b[32m, line 1\u001b[39m\n\u001b[32m----> \u001b[39m\u001b[32m1\u001b[39m \u001b[38;5;28;01mfrom\u001b[39;00m\u001b[38;5;250m \u001b[39m\u001b[34;01mutils\u001b[39;00m\u001b[34;01m.\u001b[39;00m\u001b[34;01mchatbot_utils\u001b[39;00m\u001b[38;5;250m \u001b[39m\u001b[38;5;28;01mimport\u001b[39;00m Chatbot\n\u001b[32m      2\u001b[39m \u001b[38;5;28;01mimport\u001b[39;00m\u001b[38;5;250m \u001b[39m\u001b[34;01mtime\u001b[39;00m\n\u001b[32m      3\u001b[39m \u001b[38;5;28;01mimport\u001b[39;00m\u001b[38;5;250m \u001b[39m\u001b[34;01msys\u001b[39;00m\n",
      "\u001b[36mFile \u001b[39m\u001b[32m~/Perfect_Quote/utils/__init__.py:7\u001b[39m\n\u001b[32m      1\u001b[39m \u001b[33;03m\"\"\"\u001b[39;00m\n\u001b[32m      2\u001b[39m \u001b[33;03mPerfect Quote Chatbot Utils Package\u001b[39;00m\n\u001b[32m      3\u001b[39m \n\u001b[32m      4\u001b[39m \u001b[33;03m이 패키지는 챗봇 관련 클래스와 함수들을 제공합니다.\u001b[39;00m\n\u001b[32m      5\u001b[39m \u001b[33;03m\"\"\"\u001b[39;00m\n\u001b[32m----> \u001b[39m\u001b[32m7\u001b[39m \u001b[38;5;28;01mfrom\u001b[39;00m\u001b[38;5;250m \u001b[39m\u001b[34;01m.\u001b[39;00m\u001b[34;01mchatbot_utils\u001b[39;00m\u001b[38;5;250m \u001b[39m\u001b[38;5;28;01mimport\u001b[39;00m Chatbot\n\u001b[32m      9\u001b[39m __all__ = [\u001b[33m'\u001b[39m\u001b[33mChatbot\u001b[39m\u001b[33m'\u001b[39m] \n",
      "\u001b[36mFile \u001b[39m\u001b[32m~/Perfect_Quote/utils/chatbot_utils.py:1\u001b[39m\n\u001b[32m----> \u001b[39m\u001b[32m1\u001b[39m \u001b[38;5;28;01mfrom\u001b[39;00m\u001b[38;5;250m \u001b[39m\u001b[34;01mlangchain_upstage\u001b[39;00m\u001b[38;5;250m \u001b[39m\u001b[38;5;28;01mimport\u001b[39;00m ChatUpstage\n\u001b[32m      2\u001b[39m \u001b[38;5;28;01mfrom\u001b[39;00m\u001b[38;5;250m \u001b[39m\u001b[34;01mlangchain_core\u001b[39;00m\u001b[34;01m.\u001b[39;00m\u001b[34;01mmessages\u001b[39;00m\u001b[38;5;250m \u001b[39m\u001b[38;5;28;01mimport\u001b[39;00m HumanMessage, AIMessage\n\u001b[32m      3\u001b[39m \u001b[38;5;28;01mfrom\u001b[39;00m\u001b[38;5;250m \u001b[39m\u001b[34;01mlangchain_core\u001b[39;00m\u001b[34;01m.\u001b[39;00m\u001b[34;01mprompts\u001b[39;00m\u001b[38;5;250m \u001b[39m\u001b[38;5;28;01mimport\u001b[39;00m ChatPromptTemplate\n",
      "\u001b[31mModuleNotFoundError\u001b[39m: No module named 'langchain_upstage'"
     ]
    }
   ],
   "source": [
    "from utils.chatbot_utils import Chatbot\n",
    "import time\n",
    "import sys"
   ]
  },
  {
   "cell_type": "code",
   "execution_count": 2,
   "metadata": {},
   "outputs": [
    {
     "name": "stdout",
     "output_type": "stream",
     "text": [
      "==================================================\n",
      "Perfect Quote Chatbot 대화 시작\n",
      "==================================================\n",
      "사용자: 안녕\n",
      "챗봇: 안녕! 오랜만이네. 너의 안부가 궁금해. 요즘 어떻게 지내?\n",
      "------------------------------\n",
      "사용자: 잘 지내고 있어\n",
      "챗봇: 정말 다행이네! 그래서, 최근에 어떤 재밌는 일들이 있었어? 이야기 나누고 싶은 거 있으면 언제든 말해줘.\n",
      "------------------------------\n",
      "사용자: 그저꼐 치킨을 먹었는데 맛있더라\n",
      "챗봇: 치킨이 맛있었구나! 혹시 어디서 시켰어? 다음에 같이 먹을 치킨집이 생겼으면 좋겠네!\n",
      "------------------------------\n",
      "사용자: 어디서 시킨지는 모르겠고 치킨의 시즈닝이 먹을만 했어. 치즈맛이었는데 난 원래 치즈는 잘 안 먹는데 그건 맛있더라고\n",
      "챗봇: 신선한 발견이네! 치즈를 별로 안 좋아한다면서 그 맛이 잘 맞았던 거니. 이걸로 치즈 치킨에 도전해보는 건 어때? 새로운 맛을 발견할 수도 있을 거야!\n",
      "------------------------------\n",
      "사용자: 도전까지는 잘 모르겠네. 그 집 치킨만 먹는걸로...!\n",
      "챗봇: 그럴 만도 하네! 맛있는 치킨집은 한 곳이 좋기도 하니까. 다음에 그 치킨 마시고 싶으면 같이 시킬까? 맛집을 공유하는 것도 좋은 재미야!\n",
      "------------------------------\n",
      "사용자: exit\n",
      "==================================================\n",
      "( 챗봇과의 대화를 종료합니다. )\n",
      "==================================================\n"
     ]
    }
   ],
   "source": [
    "# 사용자와 계속적으로 대화하기\n",
    "# 'exit' 입력 시 종료\n",
    "\n",
    "print(\"=\" * 50)\n",
    "print(\"Perfect Quote Chatbot 대화 시작\")\n",
    "print(\"=\" * 50)\n",
    "time.sleep(0.2)\n",
    "\n",
    "chatbot = Chatbot()\n",
    "\n",
    "while True:\n",
    "    user_input = input(\"대화를 입력하세요: \") # 사용자 입력 받기\n",
    "    print(f\"사용자: {user_input}\") # 사용자 입력 출력\n",
    "    sys.stdout.flush()  # 출력 버퍼 강제 플러시\n",
    "    \n",
    "    if user_input.lower() == 'exit': # 사용자가 'exit' 입력 시 종료\n",
    "        print(\"=\" * 50)\n",
    "        print(\"( 챗봇과의 대화를 종료합니다. )\")\n",
    "        print(\"=\" * 50)\n",
    "        break\n",
    "\n",
    "    time.sleep(0.2) # RPM 조절용 딜레이\n",
    "    \n",
    "    # 챗봇 응답 생성 및 즉시 출력\n",
    "    try:\n",
    "        response = chatbot.chat_once(user_input) # 챗봇 응답 생성\n",
    "        print(f\"챗봇: {response}\") # 챗봇 응답 즉시 출력\n",
    "        sys.stdout.flush()  # 출력 버퍼 강제 플러시\n",
    "    except Exception as e:\n",
    "        print(f\"오류 발생: {e}\")\n",
    "    \n",
    "    print(\"-\" * 30) # 대화 구분선"
   ]
  },
  {
   "cell_type": "code",
   "execution_count": 3,
   "metadata": {},
   "outputs": [
    {
     "name": "stdout",
     "output_type": "stream",
     "text": [
      "User: 안녕\n",
      "AI: 안녕! 오랜만이네. 너의 안부가 궁금해. 요즘 어떻게 지내?\n",
      "User: 잘 지내고 있어\n",
      "AI: 정말 다행이네! 그래서, 최근에 어떤 재밌는 일들이 있었어? 이야기 나누고 싶은 거 있으면 언제든 말해줘.\n",
      "User: 그저꼐 치킨을 먹었는데 맛있더라\n",
      "AI: 치킨이 맛있었구나! 혹시 어디서 시켰어? 다음에 같이 먹을 치킨집이 생겼으면 좋겠네!\n",
      "User: 어디서 시킨지는 모르겠고 치킨의 시즈닝이 먹을만 했어. 치즈맛이었는데 난 원래 치즈는 잘 안 먹는데 그건 맛있더라고\n",
      "AI: 신선한 발견이네! 치즈를 별로 안 좋아한다면서 그 맛이 잘 맞았던 거니. 이걸로 치즈 치킨에 도전해보는 건 어때? 새로운 맛을 발견할 수도 있을 거야!\n",
      "User: 도전까지는 잘 모르겠네. 그 집 치킨만 먹는걸로...!\n",
      "AI: 그럴 만도 하네! 맛있는 치킨집은 한 곳이 좋기도 하니까. 다음에 그 치킨 마시고 싶으면 같이 시킬까? 맛집을 공유하는 것도 좋은 재미야!\n"
     ]
    }
   ],
   "source": [
    "# 지금까지 저장된 대화 히스토리\n",
    "chatbot.show_history()"
   ]
  },
  {
   "cell_type": "code",
   "execution_count": 4,
   "metadata": {},
   "outputs": [
    {
     "name": "stdout",
     "output_type": "stream",
     "text": [
      "대화 기록이 저장되었습니다.\n",
      "대화 내용 통계: {'total_conversations': 5, 'user_messages_count': 5, 'ai_messages_count': 5, 'log_filename': None}\n"
     ]
    }
   ],
   "source": [
    "# 지금까지 저장된 대화 기록을 csv파일로 저장하기.\n",
    "chatbot.save_chat_history_to_csv()"
   ]
  }
 ],
 "metadata": {
  "kernelspec": {
   "display_name": ".venv",
   "language": "python",
   "name": "python3"
  },
  "language_info": {
   "codemirror_mode": {
    "name": "ipython",
    "version": 3
   },
   "file_extension": ".py",
   "mimetype": "text/x-python",
   "name": "python",
   "nbconvert_exporter": "python",
   "pygments_lexer": "ipython3",
   "version": "3.12.8"
  }
 },
 "nbformat": 4,
 "nbformat_minor": 2
}
