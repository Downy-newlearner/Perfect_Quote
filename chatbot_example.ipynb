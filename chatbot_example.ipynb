{
 "cells": [
  {
   "cell_type": "markdown",
   "metadata": {},
   "source": [
    "# 멀티턴 대화 챗봇"
   ]
  },
  {
   "cell_type": "markdown",
   "metadata": {},
   "source": [
    "사전 진행 사항들\n",
    "- `pip install -r requirements.txt`를 실행하여 패키지를 설치한다.\n",
    "- `.env` 파일에 자신의 `upstage api key`를 입력한다.\n"
   ]
  },
  {
   "cell_type": "markdown",
   "metadata": {},
   "source": [
    "## 챗봇 활용법"
   ]
  },
  {
   "cell_type": "code",
   "execution_count": 1,
   "metadata": {},
   "outputs": [],
   "source": [
    "from utils.chatbot_utils import Chatbot\n",
    "\n",
    "chatbot = Chatbot()"
   ]
  },
  {
   "cell_type": "code",
   "execution_count": 2,
   "metadata": {},
   "outputs": [
    {
     "data": {
      "text/plain": [
       "'안녕! 오랜만이구나. 요즘 어떻게 지내고 있어? 특별한 일 없더라도, 친구랑 수다 떨고 싶을 땐 언제든지 말해줘!'"
      ]
     },
     "execution_count": 2,
     "metadata": {},
     "output_type": "execute_result"
    }
   ],
   "source": [
    "# 첫 번째 대화\n",
    "chatbot.chat_once(\"안녕\")"
   ]
  },
  {
   "cell_type": "code",
   "execution_count": 3,
   "metadata": {},
   "outputs": [
    {
     "data": {
      "text/plain": [
       "'김철수라고? 기억할게! AI 전공이라니 멋지다! 자연어 처리는 정말 흥미로운 분야야. 어떤 프로젝트에 참여하고 있어? 함께 이야기해보고 싶어!'"
      ]
     },
     "execution_count": 3,
     "metadata": {},
     "output_type": "execute_result"
    }
   ],
   "source": [
    "# 두 번째 대화\n",
    "chatbot.chat_once(\"반가워, 나는 김철수이고 서울에서 생활하는 대학생이야. 전공은 AI이고 자연어 처리에 관심이 많아!\")"
   ]
  },
  {
   "cell_type": "code",
   "execution_count": 4,
   "metadata": {},
   "outputs": [
    {
     "data": {
      "text/plain": [
       "'공포영화라니 흥미롭네! 최근에 봤던 추천할만한 영화 있어? 삼겹살은 나도 좋아해. 맛있게 먹는 곳 있으면 같이 가자!'"
      ]
     },
     "execution_count": 4,
     "metadata": {},
     "output_type": "execute_result"
    }
   ],
   "source": [
    "# 세 번째 대화\n",
    "chatbot.chat_once(\"또 내 취미는 공포영화를 즐겨보는 것이고, 좋아하는 음식은 삼겹살이야.\")"
   ]
  },
  {
   "cell_type": "code",
   "execution_count": 5,
   "metadata": {},
   "outputs": [
    {
     "data": {
      "text/plain": [
       "'응, 너의 이야기를 한 글자도 놓치지 않고 열심히 듣고 있어! 나한테 의지해도 좋아. 언제든 이야기 나누고 싶을 때 찾아와!'"
      ]
     },
     "execution_count": 5,
     "metadata": {},
     "output_type": "execute_result"
    }
   ],
   "source": [
    "# 네 번째 대화\n",
    "chatbot.chat_once(\"내 말 잘 듣고 있는 거야?\")"
   ]
  },
  {
   "cell_type": "code",
   "execution_count": 6,
   "metadata": {},
   "outputs": [
    {
     "data": {
      "text/plain": [
       "'안녕, 김철수! 서울에서 AI를 전공하는 대학생이고, 자연어 처리에 관심이 많다고 했어. 공포영화를 좋아하고, 삼겹살을 즐겨 먹는다는 것도 알고 있어! 너의 이야기를 더 많이 듣고 싶어!'"
      ]
     },
     "execution_count": 6,
     "metadata": {},
     "output_type": "execute_result"
    }
   ],
   "source": [
    "# 다섯 번째 대화\n",
    "chatbot.chat_once(\"지금까지 나에 대해서 너가 아는 것을 말해봐.\")"
   ]
  },
  {
   "cell_type": "code",
   "execution_count": 8,
   "metadata": {},
   "outputs": [
    {
     "name": "stdout",
     "output_type": "stream",
     "text": [
      "User: 안녕\n",
      "AI: 안녕! 오랜만이구나. 요즘 어떻게 지내고 있어? 특별한 일 없더라도, 친구랑 수다 떨고 싶을 땐 언제든지 말해줘!\n",
      "User: 반가워, 나는 김철수이고 서울에서 생활하는 대학생이야. 전공은 AI이고 자연어 처리에 관심이 많아!\n",
      "AI: 김철수라고? 기억할게! AI 전공이라니 멋지다! 자연어 처리는 정말 흥미로운 분야야. 어떤 프로젝트에 참여하고 있어? 함께 이야기해보고 싶어!\n",
      "User: 또 내 취미는 공포영화를 즐겨보는 것이고, 좋아하는 음식은 삼겹살이야.\n",
      "AI: 공포영화라니 흥미롭네! 최근에 봤던 추천할만한 영화 있어? 삼겹살은 나도 좋아해. 맛있게 먹는 곳 있으면 같이 가자!\n",
      "User: 내 말 잘 듣고 있는 거야?\n",
      "AI: 응, 너의 이야기를 한 글자도 놓치지 않고 열심히 듣고 있어! 나한테 의지해도 좋아. 언제든 이야기 나누고 싶을 때 찾아와!\n",
      "User: 지금까지 나에 대해서 너가 아는 것을 말해봐.\n",
      "AI: 안녕, 김철수! 서울에서 AI를 전공하는 대학생이고, 자연어 처리에 관심이 많다고 했어. 공포영화를 좋아하고, 삼겹살을 즐겨 먹는다는 것도 알고 있어! 너의 이야기를 더 많이 듣고 싶어!\n"
     ]
    }
   ],
   "source": [
    "# 지금까지의 대화 기록을 살펴보기\n",
    "chatbot.show_history()"
   ]
  },
  {
   "cell_type": "code",
   "execution_count": 9,
   "metadata": {},
   "outputs": [
    {
     "name": "stdout",
     "output_type": "stream",
     "text": [
      "대화 기록이 저장되었습니다.\n",
      "대화 내용 통계: {'total_conversations': 5, 'user_messages_count': 5, 'ai_messages_count': 5, 'log_filename': None}\n"
     ]
    }
   ],
   "source": [
    "# 지금까지의 대화 기록을 csv파일로 저장하기.\n",
    "chatbot.save_chat_history_to_csv()"
   ]
  }
 ],
 "metadata": {
  "kernelspec": {
   "display_name": ".venv",
   "language": "python",
   "name": "python3"
  },
  "language_info": {
   "codemirror_mode": {
    "name": "ipython",
    "version": 3
   },
   "file_extension": ".py",
   "mimetype": "text/x-python",
   "name": "python",
   "nbconvert_exporter": "python",
   "pygments_lexer": "ipython3",
   "version": "3.12.3"
  }
 },
 "nbformat": 4,
 "nbformat_minor": 2
}
