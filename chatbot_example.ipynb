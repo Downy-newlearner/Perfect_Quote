{
 "cells": [
  {
   "cell_type": "markdown",
   "metadata": {},
   "source": [
    "# 멀티턴 대화 챗봇"
   ]
  },
  {
   "cell_type": "markdown",
   "metadata": {},
   "source": [
    "사전 진행 사항들\n",
    "- `pip install -r requirements.txt`를 실행하여 패키지를 설치한다.\n",
    "- `.env` 파일에 자신의 `upstage api key`를 입력한다.\n"
   ]
  },
  {
   "cell_type": "markdown",
   "metadata": {},
   "source": [
    "## 챗봇 활용법"
   ]
  },
  {
   "cell_type": "code",
   "execution_count": 1,
   "metadata": {},
   "outputs": [],
   "source": [
    "from utils.chatbot_utils import Chatbot\n",
    "\n",
    "chatbot = Chatbot()"
   ]
  },
  {
   "cell_type": "code",
   "execution_count": 2,
   "metadata": {},
   "outputs": [
    {
     "data": {
      "text/plain": [
       "'안녕! 오랜만이네. 어떻게 지내? 오늘은 특별히 어떤 일이 있었어? 한 번 들어보고 싶어. 힘든 일이라도 있으면, 나는 여기 있어. 함께 이야기해도 돼.'"
      ]
     },
     "execution_count": 2,
     "metadata": {},
     "output_type": "execute_result"
    }
   ],
   "source": [
    "# 첫 번째 대화\n",
    "chatbot.chat_once(\"안녕\")"
   ]
  },
  {
   "cell_type": "code",
   "execution_count": 3,
   "metadata": {},
   "outputs": [
    {
     "data": {
      "text/plain": [
       "'안녕하세요, 김철수님! 서울에서 AI 전공으로 자연어 처리에 관심을 가지고 있다니 정말 멋져요. 요즘 AI 분야는 정말 흥미롭고 빠르게 발전하고 있죠. 자연어 처리 같은 분야는 많은 가능성과 도전 과제가 있을 것 같아요. 어떤 프로젝트나 주제에 특히 관심이 있으신가요? 함께 이야기해보고 싶은 게 있으면 언제든지 말씀해 주세요!'"
      ]
     },
     "execution_count": 3,
     "metadata": {},
     "output_type": "execute_result"
    }
   ],
   "source": [
    "# 두 번째 대화\n",
    "chatbot.chat_once(\"나는 김철수이고 서울에서 생활하는 대학생이야. 전공은 AI이고 자연어 처리에 관심이 많아!\")"
   ]
  },
  {
   "cell_type": "code",
   "execution_count": 4,
   "metadata": {},
   "outputs": [
    {
     "data": {
      "text/plain": [
       "'네, 잘 이해했어요. 김철수님은 서울에서 AI 전공의 대학생으로 자연어 처리에 큰 관심을 가지고 계시네요. 이런 관심은 정말 흥미롭고, 많은 가능성을 열어줄 수 있는 분야입니다. 혹시 요즘 어떤 프로젝트나 연구에 몰두하고 계시는지 궁금하네요. 관심이 있다면, 함께 이야기해보는 것도 좋을 것 같아요!'"
      ]
     },
     "execution_count": 4,
     "metadata": {},
     "output_type": "execute_result"
    }
   ],
   "source": [
    "# 세 번째 대화\n",
    "chatbot.chat_once(\"나에 대해서 잘 이해했어?\")"
   ]
  },
  {
   "cell_type": "code",
   "execution_count": 5,
   "metadata": {},
   "outputs": [
    {
     "data": {
      "text/plain": [
       "'김철수님은 서울에서 AI 전공을 하시는 대학생이시고, 특히 자연어 처리에 관심이 많으신 것으로 알고 있습니다. 이런 관심은 매우 흥미롭고, AI 분야에서의 발전에 크게 기여할 수 있는 잠재력을 가지고 있어요. 자연어 처리는 많은 혁신적인 응용 분야가 있는 흥미로운 주제니까요. 혹시 최근에 진행하신 프로젝트나 공부하고 계신 주제에 대해 좀 더 듣고 싶네요. 언제든지 말씀해 주세요!'"
      ]
     },
     "execution_count": 5,
     "metadata": {},
     "output_type": "execute_result"
    }
   ],
   "source": [
    "# 네 번째 대화\n",
    "chatbot.chat_once(\"내 정보에 대해서 아는 대로 말해봐\")"
   ]
  },
  {
   "cell_type": "code",
   "execution_count": 6,
   "metadata": {},
   "outputs": [
    {
     "name": "stdout",
     "output_type": "stream",
     "text": [
      "대화 기록이 저장되었습니다.\n",
      "대화 내용 통계: {'total_conversations': 4, 'user_messages_count': 4, 'ai_messages_count': 4, 'log_filename': None}\n"
     ]
    }
   ],
   "source": [
    "# 대화 기록을 csv파일로 저장하기.\n",
    "chatbot.save_chat_history_to_csv()"
   ]
  }
 ],
 "metadata": {
  "kernelspec": {
   "display_name": ".venv",
   "language": "python",
   "name": "python3"
  },
  "language_info": {
   "codemirror_mode": {
    "name": "ipython",
    "version": 3
   },
   "file_extension": ".py",
   "mimetype": "text/x-python",
   "name": "python",
   "nbconvert_exporter": "python",
   "pygments_lexer": "ipython3",
   "version": "3.12.3"
  }
 },
 "nbformat": 4,
 "nbformat_minor": 2
}
