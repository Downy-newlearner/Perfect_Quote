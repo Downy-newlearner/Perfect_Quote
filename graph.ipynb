{
 "cells": [
  {
   "cell_type": "code",
   "execution_count": null,
   "id": "a3f2bec3",
   "metadata": {},
   "outputs": [],
   "source": [
    "# import langchain and langgraph libs\n",
    "from langchain_core.messages import HumanMessage, AIMessage, SystemMessage\n",
    "from langchain_core.prompts import ChatPromptTemplate\n",
    "from langchain_core.output_parsers import StrOutputParser\n",
    "from langchain_upstage import ChatUpstage\n",
    "from langgraph.graph import StateGraph, START, END\n",
    "from langgraph.graph.message import add_messages\n",
    "\n",
    "# others\n",
    "import os\n",
    "from dotenv import load_dotenv\n",
    "import json\n",
    "\n",
    "# type hint\n",
    "from typing import TypedDict, List, Dict, Any, Annotated, Optional\n",
    "\n",
    "# load env\n",
    "load_dotenv()"
   ]
  },
  {
   "cell_type": "code",
   "execution_count": null,
   "id": "3a538987",
   "metadata": {},
   "outputs": [],
   "source": [
    "# define state for chatbot\n",
    "\n",
    "class ChatbotState(TypedDict):\n",
    "    user_id: Annotated[str, \"User ID\"]\n",
    "    session_id: Annotated[str, \"Session ID\"]\n",
    "    user_message: Annotated[str, \"User Message\"]\n",
    "    chatbot_message: Annotated[str, \"Chatbot Message\"]\n",
    "    messages: Annotated[List[Dict[str, Any]], \"Messages\"]\n"
   ]
  },
  {
   "cell_type": "code",
   "execution_count": null,
   "id": "89ea563c",
   "metadata": {},
   "outputs": [],
   "source": [
    "# identify the user\n",
    "def identify_user(state: ChatbotState) -> ChatbotState:\n",
    "    return {**state}\n",
    "\n",
    "# initialize the session\n",
    "def initialize_session(state: ChatbotState) -> ChatbotState:\n",
    "    return {**state}\n",
    "\n",
    "# invoke the llm"
   ]
  },
  {
   "cell_type": "code",
   "execution_count": null,
   "id": "ceac741b",
   "metadata": {},
   "outputs": [],
   "source": [
    "# initialize state\n",
    "\n",
    "init_state = {\n",
    "    \"user_id\": \"user1\",\n",
    "    \"session_id\": \"session1\",\n",
    "    \"messages\": [],\n",
    "    \"history\": []\n",
    "}\n",
    "\n",
    "# define nodes"
   ]
  },
  {
   "cell_type": "code",
   "execution_count": null,
   "id": "1d66ee20",
   "metadata": {},
   "outputs": [],
   "source": [
    "# define nodes\n",
    "from utils.system_prompt import SYSTEM_PROMPT\n",
    "\n",
    "def _init_llm():\n",
    "    return ChatUpstage(\n",
    "        model=\"solar-pro\",\n",
    "        temperature=0.7,\n",
    "        max_tokens=300,\n",
    "    )\n",
    "\n",
    "def _build_chain():\n",
    "    llm = _init_llm()\n",
    "    prompt = ChatPromptTemplate.from_messages([\n",
    "        (\"system\", SYSTEM_PROMPT),\n",
    "        (\"history\", \"{chat_history}\"),\n",
    "        (\"user\", \"{user_input}\"),\n",
    "    ])\n",
    "    chain = prompt | llm  \n",
    "    return chain\n",
    "\n",
    "\n",
    "def chatbot(state: ChatbotState) -> ChatbotState:\n",
    "    chain = _build_chain()\n",
    "    response = chain.invoke({\n",
    "            \"user_input\": state[\"user_message\"], \n",
    "            \"chat_history\": state[\"messages\"]\n",
    "        })\n",
    "\n",
    "    return {\n",
    "        **state,\n",
    "        \"chatbot_message\": str(response.content),\n",
    "    }"
   ]
  }
 ],
 "metadata": {
  "language_info": {
   "name": "python"
  }
 },
 "nbformat": 4,
 "nbformat_minor": 5
}
